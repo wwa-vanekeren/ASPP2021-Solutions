{
 "cells": [
  {
   "cell_type": "code",
   "execution_count": 1,
   "metadata": {},
   "outputs": [],
   "source": [
    "import numpy as np\n",
    "import sys\n",
    "from scipy import linalg, matmul"
   ]
  },
  {
   "cell_type": "markdown",
   "metadata": {},
   "source": [
    "a. Define a matrix A <br> b. Define a vector b"
   ]
  },
  {
   "cell_type": "code",
   "execution_count": 2,
   "metadata": {},
   "outputs": [
    {
     "name": "stdout",
     "output_type": "stream",
     "text": [
      "[[1 2 3]\n",
      " [4 5 6]\n",
      " [7 8 9]] [1, 2, 3]\n"
     ]
    }
   ],
   "source": [
    "A = np.arange(1,10).reshape(3,3)\n",
    "b = [1,2,3]\n",
    "print(A,b)"
   ]
  },
  {
   "cell_type": "markdown",
   "metadata": {},
   "source": [
    "c. Solve the linear system of equations A x = b"
   ]
  },
  {
   "cell_type": "code",
   "execution_count": 3,
   "metadata": {},
   "outputs": [
    {
     "name": "stdout",
     "output_type": "stream",
     "text": [
      "[-0.23333333  0.46666667  0.1       ]\n"
     ]
    },
    {
     "name": "stderr",
     "output_type": "stream",
     "text": [
      "<ipython-input-3-8c2afac160e7>:1: LinAlgWarning: Ill-conditioned matrix (rcond=2.20282e-18): result may not be accurate.\n",
      "  x = linalg.solve(A,b)\n"
     ]
    }
   ],
   "source": [
    "x = linalg.solve(A,b)\n",
    "print(x)"
   ]
  },
  {
   "cell_type": "markdown",
   "metadata": {},
   "source": [
    "d. Check that your solution is correct by plugging it into the equation"
   ]
  },
  {
   "cell_type": "code",
   "execution_count": 4,
   "metadata": {},
   "outputs": [
    {
     "name": "stdout",
     "output_type": "stream",
     "text": [
      "[1. 2. 3.]\n"
     ]
    }
   ],
   "source": [
    "check = np.matmul(A,x)\n",
    "print(check)"
   ]
  },
  {
   "cell_type": "markdown",
   "metadata": {},
   "source": [
    "e. Repeat steps a-d using a random 3x3 matrix B (instead of the vector b)"
   ]
  },
  {
   "cell_type": "code",
   "execution_count": 5,
   "metadata": {},
   "outputs": [
    {
     "name": "stdout",
     "output_type": "stream",
     "text": [
      "[[1 2 3]\n",
      " [4 5 6]\n",
      " [7 8 9]]\n",
      "[[0.81758571 0.73756985 0.32169363]\n",
      " [0.46868413 0.87055114 0.70760821]\n",
      " [0.07936758 0.24754523 0.1954129 ]]\n"
     ]
    }
   ],
   "source": [
    "A = np.arange(1,10).reshape(3,3)\n",
    "B = np.random.rand(3,3)\n",
    "print(A)\n",
    "print(B)"
   ]
  },
  {
   "cell_type": "markdown",
   "metadata": {},
   "source": [
    "f. Solve the eigenvalue problem for the matrix A and print the eigenvalues and eigenvectors"
   ]
  },
  {
   "cell_type": "code",
   "execution_count": 6,
   "metadata": {},
   "outputs": [
    {
     "name": "stdout",
     "output_type": "stream",
     "text": [
      "[ 1.61168440e+01+0.j -1.11684397e+00+0.j -9.75918483e-16+0.j]\n",
      "[[-0.23197069 -0.78583024  0.40824829]\n",
      " [-0.52532209 -0.08675134 -0.81649658]\n",
      " [-0.8186735   0.61232756  0.40824829]]\n"
     ]
    }
   ],
   "source": [
    "eig_val, eig_vec = linalg.eig(A)\n",
    "print(eig_val)\n",
    "print(eig_vec)"
   ]
  },
  {
   "cell_type": "markdown",
   "metadata": {},
   "source": [
    "g. Calculate the inverse, determinant of A"
   ]
  },
  {
   "cell_type": "code",
   "execution_count": 7,
   "metadata": {},
   "outputs": [
    {
     "name": "stdout",
     "output_type": "stream",
     "text": [
      "0.024499999999999914\n",
      "0.024499999999999914\n"
     ]
    }
   ],
   "source": [
    "C=linalg.inv(A)\n",
    "inv_D=linalg.det(C)\n",
    "print(inv_D)\n",
    "inv_D2 =linalg.det(linalg.inv(A))\n",
    "print(inv_D2)"
   ]
  },
  {
   "cell_type": "markdown",
   "metadata": {},
   "source": [
    "h. Calculate the norm of A with different orders"
   ]
  },
  {
   "cell_type": "code",
   "execution_count": 8,
   "metadata": {},
   "outputs": [],
   "source": [
    "from scipy.linalg import norm"
   ]
  },
  {
   "cell_type": "code",
   "execution_count": 9,
   "metadata": {},
   "outputs": [
    {
     "name": "stdout",
     "output_type": "stream",
     "text": [
      "16.881943016134134\n",
      "24.0\n",
      "6.0\n"
     ]
    }
   ],
   "source": [
    "N1 = norm(A, None)\n",
    "print(N1)\n",
    "\n",
    "N2 = norm(A, np.inf)\n",
    "print(N2)\n",
    "\n",
    "N3 = norm(A, -np.inf)\n",
    "print(N3)"
   ]
  }
 ],
 "metadata": {
  "kernelspec": {
   "display_name": "Python 3",
   "language": "python",
   "name": "python3"
  },
  "language_info": {
   "codemirror_mode": {
    "name": "ipython",
    "version": 3
   },
   "file_extension": ".py",
   "mimetype": "text/x-python",
   "name": "python",
   "nbconvert_exporter": "python",
   "pygments_lexer": "ipython3",
   "version": "3.8.5"
  }
 },
 "nbformat": 4,
 "nbformat_minor": 4
}
